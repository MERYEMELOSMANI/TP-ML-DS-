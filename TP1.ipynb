{
 "cells": [
  {
   "cell_type": "code",
   "execution_count": 26,
   "id": "66d8a6d5-8759-4488-b2fa-e65be55f5996",
   "metadata": {},
   "outputs": [],
   "source": [
    "# Importation des bibliothèques nécessaires pour l'analyse des données.\n",
    "# - pandas : Bibliothèque puissante pour manipuler et analyser des données tabulaires.\n",
    "import pandas as pd"
   ]
  },
  {
   "cell_type": "code",
   "execution_count": 27,
   "id": "c1ceb4f1-1677-4f9a-bce8-51b787e56963",
   "metadata": {},
   "outputs": [
    {
     "name": "stdout",
     "output_type": "stream",
     "text": [
      "   Nombre prénoms déclarés Sexe  Annee    Prenoms  \\\n",
      "0                      106    F   2022  Joséphine   \n",
      "1                       66    M   2022    Léonard   \n",
      "2                       63    F   2022       Maya   \n",
      "3                       59    F   2022    Céleste   \n",
      "4                       57    M   2022       Noam   \n",
      "\n",
      "   Nombre total cumule par annee  \n",
      "0                            106  \n",
      "1                             66  \n",
      "2                             63  \n",
      "3                             59  \n",
      "4                             57  \n"
     ]
    }
   ],
   "source": [
    "# Chargement des données depuis un fichier Excel.\n",
    "# - `pd.read_excel` permet de lire un fichier Excel et de le convertir en DataFrame.\n",
    "df = pd.read_excel(r\"C:\\Users\\Lenovo\\Documents\\Python\\Donnees.xlsx\")\n",
    "# - Affichage des 5 premières lignes pour vérifier que les données ont été chargées correctement.\n",
    "print(df.head(5))"
   ]
  },
  {
   "cell_type": "code",
   "execution_count": 28,
   "id": "8aa2495d-d01f-414b-8b4a-aa9701b8acaa",
   "metadata": {},
   "outputs": [
    {
     "data": {
      "text/plain": [
       "Index(['Nombre prénoms déclarés', 'Sexe', 'Annee', 'Prenoms',\n",
       "       'Nombre total cumule par annee'],\n",
       "      dtype='object')"
      ]
     },
     "execution_count": 28,
     "metadata": {},
     "output_type": "execute_result"
    }
   ],
   "source": [
    "# Affichage des colonnes disponibles dans le DataFrame.\n",
    "# - Permet de vérifier les noms et la structure des colonnes.\n",
    "df.columns"
   ]
  },
  {
   "cell_type": "code",
   "execution_count": 29,
   "id": "17b750ba-b339-41cf-afc5-18d26abcf406",
   "metadata": {},
   "outputs": [
    {
     "data": {
      "text/plain": [
       "(25465, 5)"
      ]
     },
     "execution_count": 29,
     "metadata": {},
     "output_type": "execute_result"
    }
   ],
   "source": [
    "# Affichage de la taille du DataFrame.\n",
    "# - Retourne le nombre de lignes et de colonnes pour comprendre la quantité de données.\n",
    "df.shape"
   ]
  },
  {
   "cell_type": "code",
   "execution_count": 30,
   "id": "8311d94c-4854-4872-96e2-81a1a4ff0539",
   "metadata": {},
   "outputs": [
    {
     "data": {
      "text/html": [
       "<div>\n",
       "<style scoped>\n",
       "    .dataframe tbody tr th:only-of-type {\n",
       "        vertical-align: middle;\n",
       "    }\n",
       "\n",
       "    .dataframe tbody tr th {\n",
       "        vertical-align: top;\n",
       "    }\n",
       "\n",
       "    .dataframe thead th {\n",
       "        text-align: right;\n",
       "    }\n",
       "</style>\n",
       "<table border=\"1\" class=\"dataframe\">\n",
       "  <thead>\n",
       "    <tr style=\"text-align: right;\">\n",
       "      <th></th>\n",
       "      <th>Nombre prénoms déclarés</th>\n",
       "      <th>Sexe</th>\n",
       "      <th>Annee</th>\n",
       "      <th>Prenoms</th>\n",
       "      <th>Nombre total cumule par annee</th>\n",
       "    </tr>\n",
       "  </thead>\n",
       "  <tbody>\n",
       "    <tr>\n",
       "      <th>0</th>\n",
       "      <td>106</td>\n",
       "      <td>F</td>\n",
       "      <td>2022</td>\n",
       "      <td>Joséphine</td>\n",
       "      <td>106</td>\n",
       "    </tr>\n",
       "    <tr>\n",
       "      <th>1</th>\n",
       "      <td>66</td>\n",
       "      <td>M</td>\n",
       "      <td>2022</td>\n",
       "      <td>Léonard</td>\n",
       "      <td>66</td>\n",
       "    </tr>\n",
       "    <tr>\n",
       "      <th>2</th>\n",
       "      <td>63</td>\n",
       "      <td>F</td>\n",
       "      <td>2022</td>\n",
       "      <td>Maya</td>\n",
       "      <td>63</td>\n",
       "    </tr>\n",
       "    <tr>\n",
       "      <th>3</th>\n",
       "      <td>59</td>\n",
       "      <td>F</td>\n",
       "      <td>2022</td>\n",
       "      <td>Céleste</td>\n",
       "      <td>59</td>\n",
       "    </tr>\n",
       "    <tr>\n",
       "      <th>4</th>\n",
       "      <td>57</td>\n",
       "      <td>M</td>\n",
       "      <td>2022</td>\n",
       "      <td>Noam</td>\n",
       "      <td>57</td>\n",
       "    </tr>\n",
       "    <tr>\n",
       "      <th>5</th>\n",
       "      <td>51</td>\n",
       "      <td>M</td>\n",
       "      <td>2022</td>\n",
       "      <td>Zayn</td>\n",
       "      <td>51</td>\n",
       "    </tr>\n",
       "    <tr>\n",
       "      <th>6</th>\n",
       "      <td>46</td>\n",
       "      <td>F</td>\n",
       "      <td>2022</td>\n",
       "      <td>Nora</td>\n",
       "      <td>46</td>\n",
       "    </tr>\n",
       "    <tr>\n",
       "      <th>7</th>\n",
       "      <td>44</td>\n",
       "      <td>M</td>\n",
       "      <td>2022</td>\n",
       "      <td>Mamadou</td>\n",
       "      <td>44</td>\n",
       "    </tr>\n",
       "    <tr>\n",
       "      <th>8</th>\n",
       "      <td>44</td>\n",
       "      <td>F</td>\n",
       "      <td>2022</td>\n",
       "      <td>Clémence</td>\n",
       "      <td>44</td>\n",
       "    </tr>\n",
       "    <tr>\n",
       "      <th>9</th>\n",
       "      <td>32</td>\n",
       "      <td>F</td>\n",
       "      <td>2022</td>\n",
       "      <td>Lola</td>\n",
       "      <td>32</td>\n",
       "    </tr>\n",
       "    <tr>\n",
       "      <th>10</th>\n",
       "      <td>31</td>\n",
       "      <td>M</td>\n",
       "      <td>2022</td>\n",
       "      <td>Pablo</td>\n",
       "      <td>31</td>\n",
       "    </tr>\n",
       "    <tr>\n",
       "      <th>11</th>\n",
       "      <td>19</td>\n",
       "      <td>M</td>\n",
       "      <td>2022</td>\n",
       "      <td>Khalil</td>\n",
       "      <td>19</td>\n",
       "    </tr>\n",
       "    <tr>\n",
       "      <th>12</th>\n",
       "      <td>18</td>\n",
       "      <td>M</td>\n",
       "      <td>2022</td>\n",
       "      <td>Loup</td>\n",
       "      <td>18</td>\n",
       "    </tr>\n",
       "    <tr>\n",
       "      <th>13</th>\n",
       "      <td>18</td>\n",
       "      <td>F</td>\n",
       "      <td>2022</td>\n",
       "      <td>Eline</td>\n",
       "      <td>18</td>\n",
       "    </tr>\n",
       "    <tr>\n",
       "      <th>14</th>\n",
       "      <td>17</td>\n",
       "      <td>M</td>\n",
       "      <td>2022</td>\n",
       "      <td>Marc</td>\n",
       "      <td>17</td>\n",
       "    </tr>\n",
       "  </tbody>\n",
       "</table>\n",
       "</div>"
      ],
      "text/plain": [
       "    Nombre prénoms déclarés Sexe  Annee    Prenoms  \\\n",
       "0                       106    F   2022  Joséphine   \n",
       "1                        66    M   2022    Léonard   \n",
       "2                        63    F   2022       Maya   \n",
       "3                        59    F   2022    Céleste   \n",
       "4                        57    M   2022       Noam   \n",
       "5                        51    M   2022       Zayn   \n",
       "6                        46    F   2022       Nora   \n",
       "7                        44    M   2022    Mamadou   \n",
       "8                        44    F   2022   Clémence   \n",
       "9                        32    F   2022       Lola   \n",
       "10                       31    M   2022      Pablo   \n",
       "11                       19    M   2022     Khalil   \n",
       "12                       18    M   2022       Loup   \n",
       "13                       18    F   2022      Eline   \n",
       "14                       17    M   2022       Marc   \n",
       "\n",
       "    Nombre total cumule par annee  \n",
       "0                             106  \n",
       "1                              66  \n",
       "2                              63  \n",
       "3                              59  \n",
       "4                              57  \n",
       "5                              51  \n",
       "6                              46  \n",
       "7                              44  \n",
       "8                              44  \n",
       "9                              32  \n",
       "10                             31  \n",
       "11                             19  \n",
       "12                             18  \n",
       "13                             18  \n",
       "14                             17  "
      ]
     },
     "execution_count": 30,
     "metadata": {},
     "output_type": "execute_result"
    }
   ],
   "source": [
    "# Affichage des 15 premières lignes du DataFrame.\n",
    "# - Permet d'examiner un échantillon des données.\n",
    "df.head(n=15)"
   ]
  },
  {
   "cell_type": "code",
   "execution_count": 31,
   "id": "bb4bd3fb-00b6-4833-9e87-7f4d331a9cd7",
   "metadata": {},
   "outputs": [
    {
     "data": {
      "text/plain": [
       "Nombre prénoms déclarés           int64\n",
       "Sexe                             object\n",
       "Annee                             int64\n",
       "Prenoms                          object\n",
       "Nombre total cumule par annee     int64\n",
       "dtype: object"
      ]
     },
     "execution_count": 31,
     "metadata": {},
     "output_type": "execute_result"
    }
   ],
   "source": [
    "# Affichage des types de données de chaque colonne.\n",
    "# - `df.dtypes` permet de vérifier si les colonnes sont bien formatées (exemple : numérique, texte, etc.).\n",
    "df.dtypes"
   ]
  },
  {
   "cell_type": "code",
   "execution_count": 32,
   "id": "a59c05c4-5623-4bb5-87a4-d962fbaa7398",
   "metadata": {},
   "outputs": [
    {
     "data": {
      "text/html": [
       "<div>\n",
       "<style scoped>\n",
       "    .dataframe tbody tr th:only-of-type {\n",
       "        vertical-align: middle;\n",
       "    }\n",
       "\n",
       "    .dataframe tbody tr th {\n",
       "        vertical-align: top;\n",
       "    }\n",
       "\n",
       "    .dataframe thead th {\n",
       "        text-align: right;\n",
       "    }\n",
       "</style>\n",
       "<table border=\"1\" class=\"dataframe\">\n",
       "  <thead>\n",
       "    <tr style=\"text-align: right;\">\n",
       "      <th></th>\n",
       "      <th>Nombre prénoms déclarés</th>\n",
       "      <th>Sexe</th>\n",
       "      <th>Annee</th>\n",
       "      <th>Prenoms</th>\n",
       "      <th>Nombre total cumule par annee</th>\n",
       "    </tr>\n",
       "  </thead>\n",
       "  <tbody>\n",
       "    <tr>\n",
       "      <th>count</th>\n",
       "      <td>25465.000000</td>\n",
       "      <td>25465</td>\n",
       "      <td>25465.000000</td>\n",
       "      <td>25465</td>\n",
       "      <td>25465.000000</td>\n",
       "    </tr>\n",
       "    <tr>\n",
       "      <th>unique</th>\n",
       "      <td>NaN</td>\n",
       "      <td>2</td>\n",
       "      <td>NaN</td>\n",
       "      <td>2777</td>\n",
       "      <td>NaN</td>\n",
       "    </tr>\n",
       "    <tr>\n",
       "      <th>top</th>\n",
       "      <td>NaN</td>\n",
       "      <td>F</td>\n",
       "      <td>NaN</td>\n",
       "      <td>Sacha</td>\n",
       "      <td>NaN</td>\n",
       "    </tr>\n",
       "    <tr>\n",
       "      <th>freq</th>\n",
       "      <td>NaN</td>\n",
       "      <td>12962</td>\n",
       "      <td>NaN</td>\n",
       "      <td>40</td>\n",
       "      <td>NaN</td>\n",
       "    </tr>\n",
       "    <tr>\n",
       "      <th>mean</th>\n",
       "      <td>24.342156</td>\n",
       "      <td>NaN</td>\n",
       "      <td>2013.543805</td>\n",
       "      <td>NaN</td>\n",
       "      <td>24.638445</td>\n",
       "    </tr>\n",
       "    <tr>\n",
       "      <th>std</th>\n",
       "      <td>36.597041</td>\n",
       "      <td>NaN</td>\n",
       "      <td>5.698167</td>\n",
       "      <td>NaN</td>\n",
       "      <td>37.055541</td>\n",
       "    </tr>\n",
       "    <tr>\n",
       "      <th>min</th>\n",
       "      <td>5.000000</td>\n",
       "      <td>NaN</td>\n",
       "      <td>2004.000000</td>\n",
       "      <td>NaN</td>\n",
       "      <td>5.000000</td>\n",
       "    </tr>\n",
       "    <tr>\n",
       "      <th>25%</th>\n",
       "      <td>7.000000</td>\n",
       "      <td>NaN</td>\n",
       "      <td>2009.000000</td>\n",
       "      <td>NaN</td>\n",
       "      <td>7.000000</td>\n",
       "    </tr>\n",
       "    <tr>\n",
       "      <th>50%</th>\n",
       "      <td>11.000000</td>\n",
       "      <td>NaN</td>\n",
       "      <td>2014.000000</td>\n",
       "      <td>NaN</td>\n",
       "      <td>11.000000</td>\n",
       "    </tr>\n",
       "    <tr>\n",
       "      <th>75%</th>\n",
       "      <td>24.000000</td>\n",
       "      <td>NaN</td>\n",
       "      <td>2018.000000</td>\n",
       "      <td>NaN</td>\n",
       "      <td>25.000000</td>\n",
       "    </tr>\n",
       "    <tr>\n",
       "      <th>max</th>\n",
       "      <td>398.000000</td>\n",
       "      <td>NaN</td>\n",
       "      <td>2023.000000</td>\n",
       "      <td>NaN</td>\n",
       "      <td>398.000000</td>\n",
       "    </tr>\n",
       "  </tbody>\n",
       "</table>\n",
       "</div>"
      ],
      "text/plain": [
       "        Nombre prénoms déclarés   Sexe         Annee Prenoms  \\\n",
       "count              25465.000000  25465  25465.000000   25465   \n",
       "unique                      NaN      2           NaN    2777   \n",
       "top                         NaN      F           NaN   Sacha   \n",
       "freq                        NaN  12962           NaN      40   \n",
       "mean                  24.342156    NaN   2013.543805     NaN   \n",
       "std                   36.597041    NaN      5.698167     NaN   \n",
       "min                    5.000000    NaN   2004.000000     NaN   \n",
       "25%                    7.000000    NaN   2009.000000     NaN   \n",
       "50%                   11.000000    NaN   2014.000000     NaN   \n",
       "75%                   24.000000    NaN   2018.000000     NaN   \n",
       "max                  398.000000    NaN   2023.000000     NaN   \n",
       "\n",
       "        Nombre total cumule par annee  \n",
       "count                    25465.000000  \n",
       "unique                            NaN  \n",
       "top                               NaN  \n",
       "freq                              NaN  \n",
       "mean                        24.638445  \n",
       "std                         37.055541  \n",
       "min                          5.000000  \n",
       "25%                          7.000000  \n",
       "50%                         11.000000  \n",
       "75%                         25.000000  \n",
       "max                        398.000000  "
      ]
     },
     "execution_count": 32,
     "metadata": {},
     "output_type": "execute_result"
    }
   ],
   "source": [
    "# Génération de statistiques descriptives sur toutes les colonnes.\n",
    "# - `df.describe(include='all')` résume les données : moyenne, min, max, valeurs uniques, etc.\n",
    "df.describe(include='all')"
   ]
  },
  {
   "cell_type": "code",
   "execution_count": 33,
   "id": "f0fa924f-82c5-41b6-a23d-f9eb099b75a8",
   "metadata": {},
   "outputs": [],
   "source": [
    "# Génération de statistiques descriptives pour les colonnes 'Prenoms' et 'Annee'.\n",
    "sexe = df[['Prenoms', 'Annee']].describe(include='all')\n"
   ]
  },
  {
   "cell_type": "code",
   "execution_count": 25,
   "id": "3105b8be-32ea-49cb-9ca3-0e19ac3c1857",
   "metadata": {},
   "outputs": [
    {
     "data": {
      "text/html": [
       "<div>\n",
       "<style scoped>\n",
       "    .dataframe tbody tr th:only-of-type {\n",
       "        vertical-align: middle;\n",
       "    }\n",
       "\n",
       "    .dataframe tbody tr th {\n",
       "        vertical-align: top;\n",
       "    }\n",
       "\n",
       "    .dataframe thead th {\n",
       "        text-align: right;\n",
       "    }\n",
       "</style>\n",
       "<table border=\"1\" class=\"dataframe\">\n",
       "  <thead>\n",
       "    <tr style=\"text-align: right;\">\n",
       "      <th></th>\n",
       "      <th>Prenoms</th>\n",
       "      <th>Annee</th>\n",
       "    </tr>\n",
       "  </thead>\n",
       "  <tbody>\n",
       "    <tr>\n",
       "      <th>count</th>\n",
       "      <td>25465</td>\n",
       "      <td>25465.000000</td>\n",
       "    </tr>\n",
       "    <tr>\n",
       "      <th>unique</th>\n",
       "      <td>2777</td>\n",
       "      <td>NaN</td>\n",
       "    </tr>\n",
       "    <tr>\n",
       "      <th>top</th>\n",
       "      <td>Sacha</td>\n",
       "      <td>NaN</td>\n",
       "    </tr>\n",
       "    <tr>\n",
       "      <th>freq</th>\n",
       "      <td>40</td>\n",
       "      <td>NaN</td>\n",
       "    </tr>\n",
       "    <tr>\n",
       "      <th>mean</th>\n",
       "      <td>NaN</td>\n",
       "      <td>2013.543805</td>\n",
       "    </tr>\n",
       "    <tr>\n",
       "      <th>std</th>\n",
       "      <td>NaN</td>\n",
       "      <td>5.698167</td>\n",
       "    </tr>\n",
       "    <tr>\n",
       "      <th>min</th>\n",
       "      <td>NaN</td>\n",
       "      <td>2004.000000</td>\n",
       "    </tr>\n",
       "    <tr>\n",
       "      <th>25%</th>\n",
       "      <td>NaN</td>\n",
       "      <td>2009.000000</td>\n",
       "    </tr>\n",
       "    <tr>\n",
       "      <th>50%</th>\n",
       "      <td>NaN</td>\n",
       "      <td>2014.000000</td>\n",
       "    </tr>\n",
       "    <tr>\n",
       "      <th>75%</th>\n",
       "      <td>NaN</td>\n",
       "      <td>2018.000000</td>\n",
       "    </tr>\n",
       "    <tr>\n",
       "      <th>max</th>\n",
       "      <td>NaN</td>\n",
       "      <td>2023.000000</td>\n",
       "    </tr>\n",
       "  </tbody>\n",
       "</table>\n",
       "</div>"
      ],
      "text/plain": [
       "       Prenoms         Annee\n",
       "count    25465  25465.000000\n",
       "unique    2777           NaN\n",
       "top      Sacha           NaN\n",
       "freq        40           NaN\n",
       "mean       NaN   2013.543805\n",
       "std        NaN      5.698167\n",
       "min        NaN   2004.000000\n",
       "25%        NaN   2009.000000\n",
       "50%        NaN   2014.000000\n",
       "75%        NaN   2018.000000\n",
       "max        NaN   2023.000000"
      ]
     },
     "execution_count": 25,
     "metadata": {},
     "output_type": "execute_result"
    }
   ],
   "source": [
    "sexe"
   ]
  },
  {
   "cell_type": "code",
   "execution_count": 34,
   "id": "9e98d42f-3534-4e52-a91d-6530b7a492f6",
   "metadata": {},
   "outputs": [
    {
     "data": {
      "text/html": [
       "<div>\n",
       "<style scoped>\n",
       "    .dataframe tbody tr th:only-of-type {\n",
       "        vertical-align: middle;\n",
       "    }\n",
       "\n",
       "    .dataframe tbody tr th {\n",
       "        vertical-align: top;\n",
       "    }\n",
       "\n",
       "    .dataframe thead th {\n",
       "        text-align: right;\n",
       "    }\n",
       "</style>\n",
       "<table border=\"1\" class=\"dataframe\">\n",
       "  <thead>\n",
       "    <tr style=\"text-align: right;\">\n",
       "      <th></th>\n",
       "      <th>Prenoms</th>\n",
       "      <th>Annee</th>\n",
       "    </tr>\n",
       "  </thead>\n",
       "  <tbody>\n",
       "    <tr>\n",
       "      <th>count</th>\n",
       "      <td>25465</td>\n",
       "      <td>25465.0</td>\n",
       "    </tr>\n",
       "  </tbody>\n",
       "</table>\n",
       "</div>"
      ],
      "text/plain": [
       "      Prenoms    Annee\n",
       "count   25465  25465.0"
      ]
     },
     "execution_count": 34,
     "metadata": {},
     "output_type": "execute_result"
    }
   ],
   "source": [
    "# Suppression des lignes contenant des valeurs manquantes.\n",
    "# - Utilisez `dropna()` pour nettoyer les données.\n",
    "sexe.dropna()"
   ]
  },
  {
   "cell_type": "code",
   "execution_count": 35,
   "id": "a967c6ba-45f9-4f73-886e-032f769a6460",
   "metadata": {},
   "outputs": [
    {
     "data": {
      "text/html": [
       "<div>\n",
       "<style scoped>\n",
       "    .dataframe tbody tr th:only-of-type {\n",
       "        vertical-align: middle;\n",
       "    }\n",
       "\n",
       "    .dataframe tbody tr th {\n",
       "        vertical-align: top;\n",
       "    }\n",
       "\n",
       "    .dataframe thead th {\n",
       "        text-align: right;\n",
       "    }\n",
       "</style>\n",
       "<table border=\"1\" class=\"dataframe\">\n",
       "  <thead>\n",
       "    <tr style=\"text-align: right;\">\n",
       "      <th></th>\n",
       "      <th>Prenoms</th>\n",
       "      <th>Annee</th>\n",
       "    </tr>\n",
       "  </thead>\n",
       "  <tbody>\n",
       "    <tr>\n",
       "      <th>count</th>\n",
       "      <td>25465</td>\n",
       "      <td>25465.000000</td>\n",
       "    </tr>\n",
       "    <tr>\n",
       "      <th>unique</th>\n",
       "      <td>2777</td>\n",
       "      <td>0.000000</td>\n",
       "    </tr>\n",
       "    <tr>\n",
       "      <th>top</th>\n",
       "      <td>Sacha</td>\n",
       "      <td>0.000000</td>\n",
       "    </tr>\n",
       "    <tr>\n",
       "      <th>freq</th>\n",
       "      <td>40</td>\n",
       "      <td>0.000000</td>\n",
       "    </tr>\n",
       "    <tr>\n",
       "      <th>mean</th>\n",
       "      <td>0</td>\n",
       "      <td>2013.543805</td>\n",
       "    </tr>\n",
       "    <tr>\n",
       "      <th>std</th>\n",
       "      <td>0</td>\n",
       "      <td>5.698167</td>\n",
       "    </tr>\n",
       "    <tr>\n",
       "      <th>min</th>\n",
       "      <td>0</td>\n",
       "      <td>2004.000000</td>\n",
       "    </tr>\n",
       "    <tr>\n",
       "      <th>25%</th>\n",
       "      <td>0</td>\n",
       "      <td>2009.000000</td>\n",
       "    </tr>\n",
       "    <tr>\n",
       "      <th>50%</th>\n",
       "      <td>0</td>\n",
       "      <td>2014.000000</td>\n",
       "    </tr>\n",
       "    <tr>\n",
       "      <th>75%</th>\n",
       "      <td>0</td>\n",
       "      <td>2018.000000</td>\n",
       "    </tr>\n",
       "    <tr>\n",
       "      <th>max</th>\n",
       "      <td>0</td>\n",
       "      <td>2023.000000</td>\n",
       "    </tr>\n",
       "  </tbody>\n",
       "</table>\n",
       "</div>"
      ],
      "text/plain": [
       "       Prenoms         Annee\n",
       "count    25465  25465.000000\n",
       "unique    2777      0.000000\n",
       "top      Sacha      0.000000\n",
       "freq        40      0.000000\n",
       "mean         0   2013.543805\n",
       "std          0      5.698167\n",
       "min          0   2004.000000\n",
       "25%          0   2009.000000\n",
       "50%          0   2014.000000\n",
       "75%          0   2018.000000\n",
       "max          0   2023.000000"
      ]
     },
     "execution_count": 35,
     "metadata": {},
     "output_type": "execute_result"
    }
   ],
   "source": [
    "# Remplacement des valeurs manquantes par 0.\n",
    "# - Utilisez `fillna(0)` pour remplacer les NaN.\n",
    "sexe.fillna(0)"
   ]
  },
  {
   "cell_type": "code",
   "execution_count": 36,
   "id": "2295ca5f-393e-4356-af6e-2af1aa966d39",
   "metadata": {},
   "outputs": [
    {
     "data": {
      "text/html": [
       "<div>\n",
       "<style scoped>\n",
       "    .dataframe tbody tr th:only-of-type {\n",
       "        vertical-align: middle;\n",
       "    }\n",
       "\n",
       "    .dataframe tbody tr th {\n",
       "        vertical-align: top;\n",
       "    }\n",
       "\n",
       "    .dataframe thead th {\n",
       "        text-align: right;\n",
       "    }\n",
       "</style>\n",
       "<table border=\"1\" class=\"dataframe\">\n",
       "  <thead>\n",
       "    <tr style=\"text-align: right;\">\n",
       "      <th></th>\n",
       "      <th>Nombre prénoms déclarés</th>\n",
       "      <th>Sexe</th>\n",
       "      <th>Annee</th>\n",
       "      <th>Prenoms</th>\n",
       "      <th>Nombre total cumule par annee</th>\n",
       "    </tr>\n",
       "  </thead>\n",
       "  <tbody>\n",
       "    <tr>\n",
       "      <th>0</th>\n",
       "      <td>106</td>\n",
       "      <td>F</td>\n",
       "      <td>2022</td>\n",
       "      <td>Joséphine</td>\n",
       "      <td>106</td>\n",
       "    </tr>\n",
       "    <tr>\n",
       "      <th>2</th>\n",
       "      <td>63</td>\n",
       "      <td>F</td>\n",
       "      <td>2022</td>\n",
       "      <td>Maya</td>\n",
       "      <td>63</td>\n",
       "    </tr>\n",
       "    <tr>\n",
       "      <th>3</th>\n",
       "      <td>59</td>\n",
       "      <td>F</td>\n",
       "      <td>2022</td>\n",
       "      <td>Céleste</td>\n",
       "      <td>59</td>\n",
       "    </tr>\n",
       "    <tr>\n",
       "      <th>6</th>\n",
       "      <td>46</td>\n",
       "      <td>F</td>\n",
       "      <td>2022</td>\n",
       "      <td>Nora</td>\n",
       "      <td>46</td>\n",
       "    </tr>\n",
       "    <tr>\n",
       "      <th>8</th>\n",
       "      <td>44</td>\n",
       "      <td>F</td>\n",
       "      <td>2022</td>\n",
       "      <td>Clémence</td>\n",
       "      <td>44</td>\n",
       "    </tr>\n",
       "    <tr>\n",
       "      <th>...</th>\n",
       "      <td>...</td>\n",
       "      <td>...</td>\n",
       "      <td>...</td>\n",
       "      <td>...</td>\n",
       "      <td>...</td>\n",
       "    </tr>\n",
       "    <tr>\n",
       "      <th>25460</th>\n",
       "      <td>5</td>\n",
       "      <td>F</td>\n",
       "      <td>2023</td>\n",
       "      <td>Charline</td>\n",
       "      <td>5</td>\n",
       "    </tr>\n",
       "    <tr>\n",
       "      <th>25461</th>\n",
       "      <td>5</td>\n",
       "      <td>F</td>\n",
       "      <td>2023</td>\n",
       "      <td>Eleonora</td>\n",
       "      <td>5</td>\n",
       "    </tr>\n",
       "    <tr>\n",
       "      <th>25462</th>\n",
       "      <td>5</td>\n",
       "      <td>F</td>\n",
       "      <td>2023</td>\n",
       "      <td>Fatimata</td>\n",
       "      <td>5</td>\n",
       "    </tr>\n",
       "    <tr>\n",
       "      <th>25463</th>\n",
       "      <td>5</td>\n",
       "      <td>F</td>\n",
       "      <td>2023</td>\n",
       "      <td>Lilou</td>\n",
       "      <td>5</td>\n",
       "    </tr>\n",
       "    <tr>\n",
       "      <th>25464</th>\n",
       "      <td>5</td>\n",
       "      <td>F</td>\n",
       "      <td>2023</td>\n",
       "      <td>Lylia</td>\n",
       "      <td>5</td>\n",
       "    </tr>\n",
       "  </tbody>\n",
       "</table>\n",
       "<p>12962 rows × 5 columns</p>\n",
       "</div>"
      ],
      "text/plain": [
       "       Nombre prénoms déclarés Sexe  Annee    Prenoms  \\\n",
       "0                          106    F   2022  Joséphine   \n",
       "2                           63    F   2022       Maya   \n",
       "3                           59    F   2022    Céleste   \n",
       "6                           46    F   2022       Nora   \n",
       "8                           44    F   2022   Clémence   \n",
       "...                        ...  ...    ...        ...   \n",
       "25460                        5    F   2023   Charline   \n",
       "25461                        5    F   2023   Eleonora   \n",
       "25462                        5    F   2023   Fatimata   \n",
       "25463                        5    F   2023      Lilou   \n",
       "25464                        5    F   2023      Lylia   \n",
       "\n",
       "       Nombre total cumule par annee  \n",
       "0                                106  \n",
       "2                                 63  \n",
       "3                                 59  \n",
       "6                                 46  \n",
       "8                                 44  \n",
       "...                              ...  \n",
       "25460                              5  \n",
       "25461                              5  \n",
       "25462                              5  \n",
       "25463                              5  \n",
       "25464                              5  \n",
       "\n",
       "[12962 rows x 5 columns]"
      ]
     },
     "execution_count": 36,
     "metadata": {},
     "output_type": "execute_result"
    }
   ],
   "source": [
    "# Filtrage des lignes où la colonne 'Sexe' est égale à \"F\".\n",
    "# - Permet d'extraire uniquement les données féminines.\n",
    "df.loc[df['Sexe']==\"F\",:]"
   ]
  },
  {
   "cell_type": "code",
   "execution_count": 19,
   "id": "8e3c5381-2422-4cbf-b18d-434ef06667cf",
   "metadata": {},
   "outputs": [
    {
     "data": {
      "text/plain": [
       "0         True\n",
       "1        False\n",
       "2         True\n",
       "3         True\n",
       "4        False\n",
       "         ...  \n",
       "25460     True\n",
       "25461     True\n",
       "25462     True\n",
       "25463     True\n",
       "25464     True\n",
       "Name: Sexe, Length: 25465, dtype: bool"
      ]
     },
     "execution_count": 19,
     "metadata": {},
     "output_type": "execute_result"
    }
   ],
   "source": [
    "df['Sexe']==\"F\""
   ]
  },
  {
   "cell_type": "code",
   "execution_count": 37,
   "id": "bc3dcdd4-a00f-4ec5-b44b-d9f4bcafb85c",
   "metadata": {},
   "outputs": [],
   "source": [
    "# Recherche de la valeur minimale dans la colonne \"Nombre prénoms déclarés\".\n",
    "mini=df[\"Nombre prénoms déclarés\"].min() "
   ]
  },
  {
   "cell_type": "code",
   "execution_count": 21,
   "id": "bc026486-17f8-411e-9426-af766c292f97",
   "metadata": {},
   "outputs": [
    {
     "data": {
      "text/plain": [
       "5"
      ]
     },
     "execution_count": 21,
     "metadata": {},
     "output_type": "execute_result"
    }
   ],
   "source": [
    "mini"
   ]
  },
  {
   "cell_type": "code",
   "execution_count": 38,
   "id": "de2b59c7-91ca-4f04-b9bf-6895dfd65054",
   "metadata": {},
   "outputs": [],
   "source": [
    "# Recherche de la valeur maximale dans la colonne \"Nombre prénoms déclarés\".\n",
    "maxi=df[\"Nombre prénoms déclarés\"].max()"
   ]
  },
  {
   "cell_type": "code",
   "execution_count": 23,
   "id": "6da31d7f-48d7-447d-be10-cb3a38ebefb7",
   "metadata": {},
   "outputs": [
    {
     "data": {
      "text/plain": [
       "398"
      ]
     },
     "execution_count": 23,
     "metadata": {},
     "output_type": "execute_result"
    }
   ],
   "source": [
    "maxi"
   ]
  },
  {
   "cell_type": "code",
   "execution_count": 39,
   "id": "1de4588d-8bc1-460a-bec3-89cd1400c9df",
   "metadata": {},
   "outputs": [
    {
     "data": {
      "text/plain": [
       "24.342155900255253"
      ]
     },
     "execution_count": 39,
     "metadata": {},
     "output_type": "execute_result"
    }
   ],
   "source": [
    "df[\"Nombre prénoms déclarés\"].mean() "
   ]
  },
  {
   "cell_type": "code",
   "execution_count": 41,
   "id": "309e8281-376b-4fa3-b413-bbbccd34c079",
   "metadata": {},
   "outputs": [
    {
     "data": {
      "text/plain": [
       "1339.343378716625"
      ]
     },
     "execution_count": 41,
     "metadata": {},
     "output_type": "execute_result"
    }
   ],
   "source": [
    "df[\"Nombre prénoms déclarés\"].var() "
   ]
  },
  {
   "cell_type": "code",
   "execution_count": 42,
   "id": "9e4da243-72e6-4c2d-88d8-555968179a74",
   "metadata": {},
   "outputs": [
    {
     "data": {
      "text/plain": [
       "36.597040573202435"
      ]
     },
     "execution_count": 42,
     "metadata": {},
     "output_type": "execute_result"
    }
   ],
   "source": [
    "df[\"Nombre prénoms déclarés\"].std() "
   ]
  },
  {
   "cell_type": "code",
   "execution_count": 43,
   "id": "91a60d65-7f3e-4210-a417-3b08145585c0",
   "metadata": {},
   "outputs": [],
   "source": [
    "rangedf = maxi - mini"
   ]
  },
  {
   "cell_type": "code",
   "execution_count": 44,
   "id": "127dc6f6-4187-4fc0-8195-ed157dd7689c",
   "metadata": {},
   "outputs": [
    {
     "data": {
      "text/plain": [
       "393"
      ]
     },
     "execution_count": 44,
     "metadata": {},
     "output_type": "execute_result"
    }
   ],
   "source": [
    "rangedf"
   ]
  },
  {
   "cell_type": "code",
   "execution_count": null,
   "id": "c9d52eb7-e4f6-426b-8022-a2b4ad77299f",
   "metadata": {},
   "outputs": [],
   "source": []
  }
 ],
 "metadata": {
  "kernelspec": {
   "display_name": "Python [conda env:base] *",
   "language": "python",
   "name": "conda-base-py"
  },
  "language_info": {
   "codemirror_mode": {
    "name": "ipython",
    "version": 3
   },
   "file_extension": ".py",
   "mimetype": "text/x-python",
   "name": "python",
   "nbconvert_exporter": "python",
   "pygments_lexer": "ipython3",
   "version": "3.12.4"
  }
 },
 "nbformat": 4,
 "nbformat_minor": 5
}
